{
 "cells": [
  {
   "cell_type": "code",
   "execution_count": 1,
   "metadata": {},
   "outputs": [
    {
     "name": "stderr",
     "output_type": "stream",
     "text": [
      "[nltk_data] Downloading package stopwords to /home/sajal/nltk_data...\n",
      "[nltk_data]   Package stopwords is already up-to-date!\n"
     ]
    },
    {
     "data": {
      "text/plain": [
       "True"
      ]
     },
     "execution_count": 1,
     "metadata": {},
     "output_type": "execute_result"
    }
   ],
   "source": [
    "import numpy as np\n",
    "import matplotlib.pyplot as plt\n",
    "import pandas as pd\n",
    "\n",
    "import re\n",
    "import pickle \n",
    "\n",
    "import nltk\n",
    "from nltk.corpus import stopwords\n",
    "from nltk.corpus import wordnet\n",
    "nltk.download('stopwords')"
   ]
  },
  {
   "cell_type": "code",
   "execution_count": 3,
   "metadata": {},
   "outputs": [],
   "source": [
    "#### LOADING THE DATASET ####\n",
    "\n",
    "# from sklearn.datasets import load_files\n",
    "# reviews_train = load_files('data/train/')\n",
    "# reviews_test = load_files('data/test/')\n",
    "# X_train,y_train = reviews_train.data,reviews_train.target\n",
    "# X_test,y_test = reviews_test.data,reviews_test.target\n",
    "\n",
    "\n",
    "#### SAVING THE DATASET ####\n",
    "\n",
    "# with open('X_train.pickle','wb') as f:\n",
    "#     pickle.dump(X_train,f)\n",
    "\n",
    "# with open('X_test.pickle','wb') as f:\n",
    "#     pickle.dump(X_test,f)  \n",
    "    \n",
    "# with open('y_train.pickle','wb') as f:\n",
    "#     pickle.dump(y_train,f)\n",
    "\n",
    "# with open('y_test.pickle','wb') as f:\n",
    "#     pickle.dump(y_test,f)\n",
    "\n",
    "\n",
    "#### LOADING THE DATASET ####\n",
    "\n",
    "with open('X_train.pickle','rb') as f:\n",
    "    X_train = pickle.load(f)\n",
    "    \n",
    "with open('X_test.pickle','rb') as f:\n",
    "    X_test = pickle.load(f)\n",
    "    \n",
    "with open('y_train.pickle','rb') as f:\n",
    "    y_train = pickle.load(f)\n",
    "    \n",
    "with open('y_test.pickle','rb') as f:\n",
    "    y_test = pickle.load(f)\n",
    "    \n",
    "\n",
    "X = X_train + X_test\n",
    "\n",
    "y = np.concatenate([y_train,y_test])\n",
    "X = X[:50000]\n",
    "y = y[:50000]"
   ]
  },
  {
   "cell_type": "code",
   "execution_count": 11,
   "metadata": {},
   "outputs": [],
   "source": [
    "def remove_special_symbols(sample):\n",
    "    review = re.sub(r'\\W', ' ', sample)\n",
    "    review = re.sub(r'\\d', ' ', review)\n",
    "    review = review.lower()\n",
    "    review = re.sub(r'br[\\s$]', ' ', review)\n",
    "    review = re.sub(r'\\s+[a-z][\\s$]', ' ',review)\n",
    "    review = re.sub(r'b\\s+', '', review)\n",
    "    review = re.sub(r'\\s+', ' ', review)\n",
    "    return review\n",
    "    \n",
    "\n",
    "def process_words(words, corpus):\n",
    "    new_words = []\n",
    "    temp_word = ''\n",
    "    \n",
    "    for word in words:\n",
    "        antonyms = []\n",
    "        if temp_word in uncheck_words:\n",
    "            if word not in stop_words:\n",
    "                word = 'not_' + word\n",
    "                temp_word = ''\n",
    "        elif temp_word == 'not_':\n",
    "            for syn in wordnet.synsets(word):\n",
    "                for s in syn.lemmas():\n",
    "                    for a in s.antonyms():\n",
    "                        antonyms.append(a.name())\n",
    "            if len(antonyms) >= 1:\n",
    "                word = antonyms[0]\n",
    "            else:\n",
    "                word = temp_word + word\n",
    "            temp_word = ''\n",
    "                \n",
    "        if word in uncheck_words:\n",
    "            temp_word = word  \n",
    "        elif word == 'not':\n",
    "            temp_word = 'not_'\n",
    "        \n",
    "        if word != 'not' and word not in uncheck_words:\n",
    "            new_words.append(word)\n",
    "            \n",
    "    review = ' '.join(new_words)\n",
    "    corpus.append(review)\n",
    "    return corpus\n",
    "\n",
    "\n",
    "def process_data(sample, uncheck_words, stop_words):\n",
    "    corpus = []\n",
    "    for i in range(0, len(sample)):\n",
    "        review = remove_special_symbols(str(sample[i]))\n",
    "        words = review.split(' ')\n",
    "        corpus = process_words(words, corpus)\n",
    "    return corpus"
   ]
  },
  {
   "cell_type": "code",
   "execution_count": 12,
   "metadata": {},
   "outputs": [],
   "source": [
    "stop_words = stopwords.words('english')\n",
    "uncheck_words = ['don','won','doesn','couldn','isn','wasn','wouldn','can','ain','shouldn','not','havn','hadn','hasn','aren']\n",
    "\n",
    "corpus = []\n",
    "corpus = process_data(X, uncheck_words, stop_words)"
   ]
  },
  {
   "cell_type": "code",
   "execution_count": 10,
   "metadata": {},
   "outputs": [
    {
     "data": {
      "text/plain": [
       "100000"
      ]
     },
     "execution_count": 10,
     "metadata": {},
     "output_type": "execute_result"
    }
   ],
   "source": [
    "len(corpus)"
   ]
  },
  {
   "cell_type": "code",
   "execution_count": null,
   "metadata": {},
   "outputs": [],
   "source": [
    "\n",
    "def count_words(corpus):\n",
    "    word2count = {}\n",
    "    for data in corpus:\n",
    "        words = nltk.word_tokenize(data)\n",
    "        for word in words:\n",
    "            if word not in word2count.keys():\n",
    "                word2count[word] = 1\n",
    "            else:\n",
    "                word2count[word] += 1\n",
    "    return word2count\n",
    "     \n",
    "\n",
    "\n",
    "\n",
    "def find_idf(word2count, freq_words):\n",
    "    word_idfs = {}\n",
    "    for word in freq_words:\n",
    "        doc_count = 0\n",
    "        for data in corpus:\n",
    "            if word in nltk.word_tokenize(data):\n",
    "                doc_count += 1\n",
    "        word_idfs[word] = np.log(len(corpus)/(1+doc_count))\n",
    "    return word_idfs\n",
    "\n",
    "def find_tf(freq,words):\n",
    "    tf_matrix = {}\n",
    "    for word in freq_words:\n",
    "        doc_tf = []\n",
    "        for data in dataset:\n",
    "            frequency = 0\n",
    "            for w in nltk.word_tokenize(data):\n",
    "                if word == w:\n",
    "                    frequency += 1\n",
    "            tf_word = frequency/len(nltk.word_tokenize(data))\n",
    "            doc_tf.append(tf_word)\n",
    "        tf_matrix[word] = doc_tf\n",
    "    return tf_matrix\n",
    "\n",
    "\n",
    "    freq_words = heapq.nlargest(num,word2count,key=word2count.get)\n",
    "\n",
    "tfidf_matrix = []\n",
    "for word in tf_matrix.keys():\n",
    "    tfidf = []\n",
    "    for value in tf_matrix[word]:\n",
    "        score = value * word_idfs[word]\n",
    "        tfidf.append(score)\n",
    "    tfidf_matrix.append(tfidf)   \n",
    "    \n",
    "# Finishing the Tf-Tdf model\n",
    "X = np.asarray(tfidf_matrix)\n",
    "\n",
    "X = np.transpose(X)"
   ]
  },
  {
   "cell_type": "code",
   "execution_count": null,
   "metadata": {},
   "outputs": [],
   "source": []
  },
  {
   "cell_type": "code",
   "execution_count": null,
   "metadata": {},
   "outputs": [],
   "source": []
  },
  {
   "cell_type": "code",
   "execution_count": null,
   "metadata": {},
   "outputs": [],
   "source": []
  }
 ],
 "metadata": {
  "kernelspec": {
   "display_name": "Python 3",
   "language": "python",
   "name": "python3"
  },
  "language_info": {
   "codemirror_mode": {
    "name": "ipython",
    "version": 3
   },
   "file_extension": ".py",
   "mimetype": "text/x-python",
   "name": "python",
   "nbconvert_exporter": "python",
   "pygments_lexer": "ipython3",
   "version": "3.6.7"
  }
 },
 "nbformat": 4,
 "nbformat_minor": 2
}
