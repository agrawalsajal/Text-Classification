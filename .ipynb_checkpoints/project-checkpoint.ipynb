{
 "cells": [
  {
   "cell_type": "code",
   "execution_count": 1,
   "metadata": {},
   "outputs": [
    {
     "name": "stderr",
     "output_type": "stream",
     "text": [
      "[nltk_data] Downloading package stopwords to /home/sajal/nltk_data...\n",
      "[nltk_data]   Package stopwords is already up-to-date!\n"
     ]
    },
    {
     "data": {
      "text/plain": [
       "True"
      ]
     },
     "execution_count": 1,
     "metadata": {},
     "output_type": "execute_result"
    }
   ],
   "source": [
    "import numpy as np\n",
    "import matplotlib.pyplot as plt\n",
    "import pandas as pd\n",
    "\n",
    "import re\n",
    "import pickle \n",
    "\n",
    "import nltk\n",
    "from nltk.corpus import stopwords\n",
    "from nltk.corpus import wordnet\n",
    "nltk.download('stopwords')"
   ]
  },
  {
   "cell_type": "code",
   "execution_count": 2,
   "metadata": {},
   "outputs": [],
   "source": [
    "from sklearn.datasets import load_files\n",
    "reviews_train = load_files('data/train/')\n",
    "reviews_test = load_files('data/test/')\n",
    "X_train,y_train = reviews_train.data,reviews_train.target\n",
    "X_test,y_test = reviews_test.data,reviews_test.target"
   ]
  },
  {
   "cell_type": "code",
   "execution_count": 6,
   "metadata": {},
   "outputs": [],
   "source": [
    "X = X_train + X_test\n",
    "y = np.concatenate([y_train,y_test])"
   ]
  },
  {
   "cell_type": "code",
   "execution_count": 20,
   "metadata": {},
   "outputs": [
    {
     "data": {
      "text/plain": [
       "[b\"Zero Day leads you to think, even re-think why two boys/young men would do what they did - commit mutual suicide via slaughtering their classmates. It captures what must be beyond a bizarre mode of being for two humans who have decided to withdraw from common civility in order to define their own/mutual world via coupled destruction.<br /><br />It is not a perfect movie but given what money/time the filmmaker and actors had - it is a remarkable product. In terms of explaining the motives and actions of the two young suicide/murderers it is better than 'Elephant' - in terms of being a film that gets under our 'rationalistic' skin it is a far, far better film than almost anything you are likely to see. <br /><br />Flawed but honest with a terrible honesty.\",\n",
       " b'Words can\\'t describe how bad this movie is. I can\\'t explain it by writing only. You have too see it for yourself to get at grip of how horrible a movie really can be. Not that I recommend you to do that. There are so many clich\\xc3\\xa9s, mistakes (and all other negative things you can imagine) here that will just make you cry. To start with the technical first, there are a LOT of mistakes regarding the airplane. I won\\'t list them here, but just mention the coloring of the plane. They didn\\'t even manage to show an airliner in the colors of a fictional airline, but instead used a 747 painted in the original Boeing livery. Very bad. The plot is stupid and has been done many times before, only much, much better. There are so many ridiculous moments here that i lost count of it really early. Also, I was on the bad guys\\' side all the time in the movie, because the good guys were so stupid. \"Executive Decision\" should without a doubt be you\\'re choice over this one, even the \"Turbulence\"-movies are better. In fact, every other movie in the world is better than this one.',\n",
       " b'Everyone plays their part pretty well in this \"little nice movie\". Belushi gets the chance to live part of his life differently, but ends up realizing that what he had was going to be just as good or maybe even better. The movie shows us that we ought to take advantage of the opportunities we have, not the ones we do not or cannot have. If U can get this movie on video for around $10, it\\xc2\\xb4d be an investment!',\n",
       " b'There are a lot of highly talented filmmakers/actors in Germany now. None of them are associated with this \"movie\".<br /><br />Why in the world do producers actually invest money in something like this this? You could have made 10 good films with the budget of this garbage! It\\'s not entertaining to have seven grown men running around as dwarfs, pretending to be funny. What IS funny though is that the film\\'s producer (who happens to be the oldest guy of the bunch) is playing the YOUNGEST dwarf.<br /><br />The film is filled with moments that scream for captions saying \"You\\'re supposed to laugh now!\". It\\'s hard to believe that this crap\\'s supposed to be a comedy.<br /><br />Many people actually stood up and left the cinema 30 minutes into the movie. I should have done the same instead of wasting my time...<br /><br />Pain!',\n",
       " b'I\\'ve just had the evidence that confirmed my suspicions. A bunch of kids, 14 to 22 put on the DVD of \"Titanic\" on a fantastic state of the art mega screen home entertainment type deal. Only two of them had actually seen it before. But they all had seen the moment of Kate, Leo and Celine Dion so many times that most of them felt they had seen the whole movie. Shortly after the epic started, they started to get restless, some of them left asking the others -- \"call us when the iceberg appears\" Over an hour and a half into the movie, only the two girls who had seen the movie before, were still there. They started shouting: iceberg, iceberg. A stampede followed, they all came back to see the sinking of the Titanic. They sat open mouthed, emitting Ohs and far outs. So, just like I thought when the movie first burst into the scene. What is this? One and a half hours waiting for the bloody thing to sink but what about the rest of the of it. Dr. Zivagho, for instance, had a similar running time, but think how much takes place in that film within the same period of time. In \"Titanic\" Leo teaches Kate how to spit. Look at the faces and hands of the, supposedly, creme de la creme in the first class dining room of the ship. Look at the historical details, if you can find them. The storyline is so thin that they have to introduce guns and shootings in a ship that is about to sink. The real sinking here is of film standards. All the efforts are focus on special effects and opening week ends. The film went on to become the highest grossing movie of all time so, what do I know?',\n",
       " b\"The Movie was sub-par, but this Television Pilot delivers a great springboard into what has become a Sci-Fi fans Ideal program. The Actors deliver and the special effects (for a television series) are spectacular. Having an intelligent interesting script doesn't hurt either.<br /><br />Stargate SG1 is currently one of my favorite programs.\",\n",
       " b\"This movie has a special way of telling the story, at first i found it rather odd as it jumped through time and I had no idea whats happening.<br /><br />Anyway the story line was although simple, but still very real and touching. You met someone the first time, you fell in love completely, but broke up at last and promoted a deadly agony. Who hasn't go through this? but we will never forget this kind of pain in our life. <br /><br />I would say i am rather touched as two actor has shown great performance in showing the love between the characters. I just wish that the story could be a happy ending.\",\n",
       " b\"the single worst film i've ever seen in a theater. i saw this film at the austin film festival in 2004, and it blew my mind that this film was accepted to a festival. it was an interesting premise, and seemed like it could go somewhere, but just fell apart every time it tried to do anything. first of all, if you're going to do a musical, find someone with musical talent. the music consisted of cheesy piano playing that sounded like they were playing it on a stereo in the room they were filming. the lyrics were terribly written, and when they weren't obvious rhymes, they were groan-inducing rhymes that showed how far they were stretching to try to make this movie work. and you'd think you'd find people who could sing when making a musical, right? not in this case. luckily they were half talking/half singing in rhyme most of the time, but when they did sing it made me cringe. especially when they attempted to sing in harmony. and that just addresses the music. some of the acting was pretty good, but a lot of the dialog was terrible, as well as most of the scenes. they obviously didn't have enough coverage on the scenes, or they just had a bad editor, because they consistently jumped the line and used terrible choices while cutting the film. at least the director was willing to admit that no one wanted the script until they added the hook of making it a musical. i hope the investors make sure someone can write music before making the same mistake again.\",\n",
       " b\"The plot of this terrible film is so convoluted I've put the spoiler warning up because I'm unsure if I'm giving anything away. The audience first sees some man in Jack the Ripper garb murder an old man in an alley a hundred years ago. Then we're up to modern day and a young Australian couple is looking for a house. We're given an unbelievably long tour of this house and the husband sees a figure in an old mirror. Some 105 year old woman lived there. There are also large iron panels covering a wall in the den. An old fashioned straight-razor falls out when they're renovating and the husband keeps it. I guess he becomes possessed by the razor because he starts having weird dreams. Oh yeah, the couple is unable to have a baby because the husband is firing blanks. <br /><br />Some mold seems to be climbing up the wall after the couple removes the iron panels and the mold has the shape of a person. Late in the story there is a plot about a large cache of money & the husband murders the body guard & a co-worker and steals the money. His wife is suddenly pregnant. <br /><br />What the hell is going on?? Who knows?? NOTHING is explained. Was the 105 year old woman the child of the serial killer? The baby sister? WHY were iron panels put on the wall? How would that keep the serial killer contained in the cellar? Was he locked down there by his family & starved to death or just concealed? WHO is Mr. Hobbs and why is he so desperate to get the iron panels?? He's never seen again. WHY was the serial killer killing people? We only see the one old man murdered. Was there a pattern or motive or something?? WHY does the wife suddenly become pregnant? Is it the demon spawn of the serial killer? Has he managed to infiltrate the husband's semen? And why, if the husband was able to subdue and murder a huge, burly security guard, is he unable to overpower his wife? And just how powerful is the voltage system in Australia that it would knock him across the room simply cutting a light wire? And why does the wife stay in the house? Is she now possessed by the serial killer? Is the baby going to be the killer reincarnated? <br /><br />This movie was such a frustrating experience I wanted to call my PBS station and ask for my money back! The ONLY enjoyable aspect of this story was seeing the husband running around in just his boxer shorts for a lot of the time, but even that couldn't redeem this muddled, incoherent mess.\",\n",
       " b'I had no idea that Mr. Izzard was so damn funny, It really boggles the mind that he is not more well known! His command over the crowd and his timing is perfect.The monologue about Star Wars will kill ya too! If only all the stand up performers had his wit...']"
      ]
     },
     "execution_count": 20,
     "metadata": {},
     "output_type": "execute_result"
    }
   ],
   "source": [
    "X[:10]"
   ]
  },
  {
   "cell_type": "code",
   "execution_count": 10,
   "metadata": {},
   "outputs": [],
   "source": [
    "stop_words = stopwords.words('english')\n",
    "uncheck_words = ['don','won','doesn','couldn','isn','wasn','wouldn','can','ain','shouldn','not','havn','hadn','hasn','aren']"
   ]
  },
  {
   "cell_type": "code",
   "execution_count": 11,
   "metadata": {},
   "outputs": [],
   "source": [
    "corpus = []\n",
    "for i in range(0, len(X)):\n",
    "    antonyms = []\n",
    "    review = re.sub(r'\\W', ' ', str(X[i]))\n",
    "    review = re.sub(r'\\d', ' ', review)\n",
    "    review = review.lower()\n",
    "    review = re.sub(r'br[\\s$]', ' ', review)\n",
    "    review = re.sub(r'\\s+[a-z][\\s$]', ' ',review)\n",
    "    review = re.sub(r'b\\s+', '', review)\n",
    "    review = re.sub(r'\\s+', ' ', review)\n",
    "    word_list = review.split(' ')\n",
    "    newword_list = []\n",
    "    temp_word = ''\n",
    "    for word in word_list:\n",
    "        if temp_word in uncheck_words:\n",
    "            if word not in stop_words:\n",
    "                word = 'not_' + word\n",
    "                temp_word = ''\n",
    "        if word in uncheck_words:\n",
    "            temp_word = word\n",
    "        if word not in uncheck_words:\n",
    "            newword_list.append(word)\n",
    "    review = ' '.join(newword_list)\n",
    "    corpus.append(review)  "
   ]
  },
  {
   "cell_type": "code",
   "execution_count": 28,
   "metadata": {},
   "outputs": [
    {
     "ename": "NameError",
     "evalue": "name 'sample' is not defined",
     "output_type": "error",
     "traceback": [
      "\u001b[0;31m---------------------------------------------------------------------------\u001b[0m",
      "\u001b[0;31mNameError\u001b[0m                                 Traceback (most recent call last)",
      "\u001b[0;32m<ipython-input-28-309f57a110bc>\u001b[0m in \u001b[0;36m<module>\u001b[0;34m\u001b[0m\n\u001b[1;32m      1\u001b[0m \u001b[0mcorpus\u001b[0m \u001b[0;34m=\u001b[0m \u001b[0;34m[\u001b[0m\u001b[0;34m]\u001b[0m\u001b[0;34m\u001b[0m\u001b[0;34m\u001b[0m\u001b[0m\n\u001b[0;32m----> 2\u001b[0;31m \u001b[0;32mfor\u001b[0m \u001b[0mi\u001b[0m \u001b[0;32min\u001b[0m \u001b[0mrange\u001b[0m\u001b[0;34m(\u001b[0m\u001b[0;36m0\u001b[0m\u001b[0;34m,\u001b[0m \u001b[0mlen\u001b[0m\u001b[0;34m(\u001b[0m\u001b[0msample\u001b[0m\u001b[0;34m)\u001b[0m\u001b[0;34m)\u001b[0m\u001b[0;34m:\u001b[0m\u001b[0;34m\u001b[0m\u001b[0;34m\u001b[0m\u001b[0m\n\u001b[0m\u001b[1;32m      3\u001b[0m     \u001b[0mreview\u001b[0m \u001b[0;34m=\u001b[0m \u001b[0mre\u001b[0m\u001b[0;34m.\u001b[0m\u001b[0msub\u001b[0m\u001b[0;34m(\u001b[0m\u001b[0;34mr'\\W'\u001b[0m\u001b[0;34m,\u001b[0m \u001b[0;34m' '\u001b[0m\u001b[0;34m,\u001b[0m \u001b[0mstr\u001b[0m\u001b[0;34m(\u001b[0m\u001b[0msample\u001b[0m\u001b[0;34m[\u001b[0m\u001b[0mi\u001b[0m\u001b[0;34m]\u001b[0m\u001b[0;34m)\u001b[0m\u001b[0;34m)\u001b[0m\u001b[0;34m\u001b[0m\u001b[0;34m\u001b[0m\u001b[0m\n\u001b[1;32m      4\u001b[0m     \u001b[0mreview\u001b[0m \u001b[0;34m=\u001b[0m \u001b[0mre\u001b[0m\u001b[0;34m.\u001b[0m\u001b[0msub\u001b[0m\u001b[0;34m(\u001b[0m\u001b[0;34mr'\\d'\u001b[0m\u001b[0;34m,\u001b[0m \u001b[0;34m' '\u001b[0m\u001b[0;34m,\u001b[0m \u001b[0mreview\u001b[0m\u001b[0;34m)\u001b[0m\u001b[0;34m\u001b[0m\u001b[0;34m\u001b[0m\u001b[0m\n\u001b[1;32m      5\u001b[0m     \u001b[0mreview\u001b[0m \u001b[0;34m=\u001b[0m \u001b[0mreview\u001b[0m\u001b[0;34m.\u001b[0m\u001b[0mlower\u001b[0m\u001b[0;34m(\u001b[0m\u001b[0;34m)\u001b[0m\u001b[0;34m\u001b[0m\u001b[0;34m\u001b[0m\u001b[0m\n",
      "\u001b[0;31mNameError\u001b[0m: name 'sample' is not defined"
     ]
    }
   ],
   "source": [
    "corpus = []\n",
    "for i in range(0, len(sample)):\n",
    "    review = re.sub(r'\\W', ' ', str(sample[i]))\n",
    "    review = re.sub(r'\\d', ' ', review)\n",
    "    review = review.lower()\n",
    "    review = re.sub(r'br[\\s$]', ' ', review)\n",
    "    review = re.sub(r'\\s+[a-z][\\s$]', ' ',review)\n",
    "    review = re.sub(r'b\\s+', '', review)\n",
    "    review = re.sub(r'\\s+', ' ', review)\n",
    "    word_list = review.split(' ')\n",
    "    new_words = []\n",
    "    temp_word = ''\n",
    "    for word in word_list:\n",
    "        antonyms = []\n",
    "        if temp_word in uncheck_words:\n",
    "            if word not in stop_words:\n",
    "                word = 'not_' + word\n",
    "                temp_word = ''\n",
    "        if word in uncheck_words:\n",
    "            temp_word = word\n",
    "\n",
    "        if word == 'not':\n",
    "            temp_word = 'not_'\n",
    "        elif temp_word == 'not_':\n",
    "            for syn in wordnet.synsets(word):\n",
    "                for s in syn.lemmas():\n",
    "                    for a in s.antonyms():\n",
    "                        antonyms.append(a.name())\n",
    "            if len(antonyms) >= 1:\n",
    "                word = antonyms[0]\n",
    "            else:\n",
    "                word = temp_word + word\n",
    "            temp_word = ''\n",
    "        if word != 'not' and word not in uncheck_words:\n",
    "            new_words.append(word)\n",
    "    review = ' '.join(new_words)\n",
    "    corpus.append(review)"
   ]
  },
  {
   "cell_type": "code",
   "execution_count": 29,
   "metadata": {},
   "outputs": [],
   "source": [
    "def process_data(sample):\n",
    "#     sample = nltk.sent_tokenize(sample[0])\n",
    "    corpus = []\n",
    "    for i in range(0, len(sample)):\n",
    "        review = re.sub(r'\\W', ' ', str(sample[i]))\n",
    "        review = re.sub(r'\\d', ' ', review)\n",
    "        review = review.lower()\n",
    "        review = re.sub(r'br[\\s$]', ' ', review)\n",
    "        review = re.sub(r'\\s+[a-z][\\s$]', ' ',review)\n",
    "        review = re.sub(r'b\\s+', '', review)\n",
    "        review = re.sub(r'\\s+', ' ', review)\n",
    "        word_list = review.split(' ')\n",
    "        new_words = []\n",
    "        temp_word = ''\n",
    "        for word in word_list:\n",
    "            antonyms = []\n",
    "            if temp_word in uncheck_words:\n",
    "                if word not in stop_words:\n",
    "                    word = 'not_' + word\n",
    "                    temp_word = ''\n",
    "            if word in uncheck_words:\n",
    "                temp_word = word\n",
    "                \n",
    "            if word == 'not':\n",
    "                temp_word = 'not_'\n",
    "            elif temp_word == 'not_':\n",
    "                for syn in wordnet.synsets(word):\n",
    "                    for s in syn.lemmas():\n",
    "                        for a in s.antonyms():\n",
    "                            antonyms.append(a.name())\n",
    "                if len(antonyms) >= 1:\n",
    "                    word = antonyms[0]\n",
    "                else:\n",
    "                    word = temp_word + word\n",
    "                temp_word = ''\n",
    "            if word != 'not' and word not in uncheck_words:\n",
    "                new_words.append(word)\n",
    "        review = ' '.join(new_words)\n",
    "        corpus.append(review)\n",
    "#         print(review)\n",
    "    return corpus"
   ]
  },
  {
   "cell_type": "code",
   "execution_count": 50,
   "metadata": {},
   "outputs": [],
   "source": [
    "X_train = open('X_train.pickle','rb')\n",
    "X_train = pickle.load(X_train)\n",
    "corpus = process_data(X_train[:10])"
   ]
  },
  {
   "cell_type": "code",
   "execution_count": null,
   "metadata": {},
   "outputs": [],
   "source": [
    "print(corpus)"
   ]
  },
  {
   "cell_type": "raw",
   "metadata": {},
   "source": []
  },
  {
   "cell_type": "code",
   "execution_count": 33,
   "metadata": {},
   "outputs": [],
   "source": [
    "from sklearn.feature_extraction.text import TfidfVectorizer\n",
    "tiv = TfidfVectorizer(max_features = 2000, min_df = 2, norm=\"l2\", use_idf=True, sublinear_tf = True, max_df = 0.6, stop_words = stop_words)\n",
    "X_train = tiv.fit_transform(corpus).toarray()"
   ]
  },
  {
   "cell_type": "code",
   "execution_count": 38,
   "metadata": {},
   "outputs": [
    {
     "data": {
      "text/plain": [
       "array([[0.        , 0.        , 0.        , 0.        , 0.        ,\n",
       "        0.        , 0.        , 0.        , 0.        , 0.        ],\n",
       "       [0.        , 0.        , 0.        , 0.        , 0.        ,\n",
       "        0.        , 0.        , 0.        , 0.        , 0.        ],\n",
       "       [0.        , 0.        , 0.        , 0.        , 0.        ,\n",
       "        0.        , 0.        , 0.        , 0.        , 0.        ],\n",
       "       [0.        , 0.        , 0.        , 0.        , 0.        ,\n",
       "        0.        , 0.        , 0.        , 0.        , 0.        ],\n",
       "       [0.        , 0.        , 0.        , 0.        , 0.        ,\n",
       "        0.        , 0.        , 0.        , 0.        , 0.        ],\n",
       "       [0.        , 0.        , 0.        , 0.        , 0.        ,\n",
       "        0.        , 0.        , 0.        , 0.        , 0.        ],\n",
       "       [0.        , 0.        , 0.        , 0.        , 0.        ,\n",
       "        0.        , 0.        , 0.        , 0.        , 0.        ],\n",
       "       [0.        , 0.        , 0.        , 0.        , 0.        ,\n",
       "        0.        , 0.        , 0.        , 0.        , 0.        ],\n",
       "       [0.        , 0.07570682, 0.        , 0.        , 0.        ,\n",
       "        0.        , 0.        , 0.        , 0.        , 0.        ],\n",
       "       [0.        , 0.        , 0.        , 0.        , 0.        ,\n",
       "        0.        , 0.        , 0.        , 0.        , 0.        ]])"
      ]
     },
     "execution_count": 38,
     "metadata": {},
     "output_type": "execute_result"
    }
   ],
   "source": [
    "X_train[:10, :10]"
   ]
  },
  {
   "cell_type": "code",
   "execution_count": 39,
   "metadata": {},
   "outputs": [],
   "source": [
    "corpus1 = process_data(X_test)"
   ]
  },
  {
   "cell_type": "code",
   "execution_count": 43,
   "metadata": {},
   "outputs": [
    {
     "name": "stdout",
     "output_type": "stream",
     "text": [
      "['not_hate heather graham because she beautiful hate her because she fun to watch in this movie like the hip clothing and funky surroundings the actors in this flick work well together casey affleck is hysterical and heather graham literally lights up the screen the minor characters goran visnjic sigh and patricia velazquez are as talented as they are gorgeous congratulations miramax director lisa krueger ', 'not_know how this movie has received so many positive comments one not_call it artistic and beautifully filmed but those things not_make up for the empty plot that was filled with sexual innuendos wish had conserve my time to watch this movie rather than being biographical it was poor excuse for promoting strange and lewd behavior it was just another hollywood attempt to convince us that that kind of life is normal and ok from the very beginning asked my self what was the point of this movie and continued watching hoping that it would change and was quite disappointed that it continued in the same vein am so glad did not_spend the money to see this in theater ']\n"
     ]
    }
   ],
   "source": [
    "print(corpus1[:2])"
   ]
  },
  {
   "cell_type": "code",
   "execution_count": 44,
   "metadata": {},
   "outputs": [],
   "source": [
    "X_test = tiv.transform(corpus1).toarray()"
   ]
  },
  {
   "cell_type": "code",
   "execution_count": 51,
   "metadata": {},
   "outputs": [
    {
     "data": {
      "text/plain": [
       "'words not_describe how bad this movie is not_explain it by writing only you have too see it for yourself to get at grip of how horrible movie really be not_that recommend you to do that there are so many clich xc xa mistakes and all other negative things you not_imagine here that will just make you cry to start with the technical first there are lot of mistakes regarding the airplane not_list them here but just mention the coloring of the plane they didn even manage to show an airliner in the colors of fictional airline but instead used painted in the original boeing livery very bad the plot is stupid and has been done many times before only much much better there are so many ridiculous moments here that lost count of it really early also was on the bad guys side all the time in the movie because the good guys were so stupid executive decision should without doubt be you re choice over this one even the turbulence movies are better in fact every other movie in the world is better than this one '"
      ]
     },
     "execution_count": 51,
     "metadata": {},
     "output_type": "execute_result"
    }
   ],
   "source": [
    "corpus[1]"
   ]
  },
  {
   "cell_type": "code",
   "execution_count": 57,
   "metadata": {},
   "outputs": [
    {
     "data": {
      "text/plain": [
       "['words',\n",
       " 'not_describe',\n",
       " 'how',\n",
       " 'bad',\n",
       " 'this',\n",
       " 'movie',\n",
       " 'is',\n",
       " 'not_explain',\n",
       " 'it',\n",
       " 'by',\n",
       " 'writing',\n",
       " 'only',\n",
       " 'you',\n",
       " 'have',\n",
       " 'too',\n",
       " 'see',\n",
       " 'it',\n",
       " 'for',\n",
       " 'yourself',\n",
       " 'to',\n",
       " 'get',\n",
       " 'at',\n",
       " 'grip',\n",
       " 'of',\n",
       " 'how',\n",
       " 'horrible',\n",
       " 'movie',\n",
       " 'really',\n",
       " 'be',\n",
       " 'not_that',\n",
       " 'recommend',\n",
       " 'you',\n",
       " 'to',\n",
       " 'do',\n",
       " 'that',\n",
       " 'there',\n",
       " 'are',\n",
       " 'so',\n",
       " 'many',\n",
       " 'clich',\n",
       " 'xc',\n",
       " 'xa',\n",
       " 'mistakes',\n",
       " 'and',\n",
       " 'all',\n",
       " 'other',\n",
       " 'negative',\n",
       " 'things',\n",
       " 'you',\n",
       " 'not_imagine',\n",
       " 'here',\n",
       " 'that',\n",
       " 'will',\n",
       " 'just',\n",
       " 'make',\n",
       " 'you',\n",
       " 'cry',\n",
       " 'to',\n",
       " 'start',\n",
       " 'with',\n",
       " 'the',\n",
       " 'technical',\n",
       " 'first',\n",
       " 'there',\n",
       " 'are',\n",
       " 'lot',\n",
       " 'of',\n",
       " 'mistakes',\n",
       " 'regarding',\n",
       " 'the',\n",
       " 'airplane',\n",
       " 'not_list',\n",
       " 'them',\n",
       " 'here',\n",
       " 'but',\n",
       " 'just',\n",
       " 'mention',\n",
       " 'the',\n",
       " 'coloring',\n",
       " 'of',\n",
       " 'the',\n",
       " 'plane',\n",
       " 'they',\n",
       " 'didn',\n",
       " 'even',\n",
       " 'manage',\n",
       " 'to',\n",
       " 'show',\n",
       " 'an',\n",
       " 'airliner',\n",
       " 'in',\n",
       " 'the',\n",
       " 'colors',\n",
       " 'of',\n",
       " 'fictional',\n",
       " 'airline',\n",
       " 'but',\n",
       " 'instead',\n",
       " 'used',\n",
       " 'painted',\n",
       " 'in',\n",
       " 'the',\n",
       " 'original',\n",
       " 'boeing',\n",
       " 'livery',\n",
       " 'very',\n",
       " 'bad',\n",
       " 'the',\n",
       " 'plot',\n",
       " 'is',\n",
       " 'stupid',\n",
       " 'and',\n",
       " 'has',\n",
       " 'been',\n",
       " 'done',\n",
       " 'many',\n",
       " 'times',\n",
       " 'before',\n",
       " 'only',\n",
       " 'much',\n",
       " 'much',\n",
       " 'better',\n",
       " 'there',\n",
       " 'are',\n",
       " 'so',\n",
       " 'many',\n",
       " 'ridiculous',\n",
       " 'moments',\n",
       " 'here',\n",
       " 'that',\n",
       " 'lost',\n",
       " 'count',\n",
       " 'of',\n",
       " 'it',\n",
       " 'really',\n",
       " 'early',\n",
       " 'also',\n",
       " 'was',\n",
       " 'on',\n",
       " 'the',\n",
       " 'bad',\n",
       " 'guys',\n",
       " 'side',\n",
       " 'all',\n",
       " 'the',\n",
       " 'time',\n",
       " 'in',\n",
       " 'the',\n",
       " 'movie',\n",
       " 'because',\n",
       " 'the',\n",
       " 'good',\n",
       " 'guys',\n",
       " 'were',\n",
       " 'so',\n",
       " 'stupid',\n",
       " 'executive',\n",
       " 'decision',\n",
       " 'should',\n",
       " 'without',\n",
       " 'doubt',\n",
       " 'be',\n",
       " 'you',\n",
       " 're',\n",
       " 'choice',\n",
       " 'over',\n",
       " 'this',\n",
       " 'one',\n",
       " 'even',\n",
       " 'the',\n",
       " 'turbulence',\n",
       " 'movies',\n",
       " 'are',\n",
       " 'better',\n",
       " 'in',\n",
       " 'fact',\n",
       " 'every',\n",
       " 'other',\n",
       " 'movie',\n",
       " 'in',\n",
       " 'the',\n",
       " 'world',\n",
       " 'is',\n",
       " 'better',\n",
       " 'than',\n",
       " 'this',\n",
       " 'one']"
      ]
     },
     "execution_count": 57,
     "metadata": {},
     "output_type": "execute_result"
    }
   ],
   "source": [
    "words = nltk.word_tokenize(corpus[1])\n",
    "words"
   ]
  },
  {
   "cell_type": "code",
   "execution_count": 65,
   "metadata": {},
   "outputs": [
    {
     "name": "stdout",
     "output_type": "stream",
     "text": [
      "[('the', 13), ('you', 5), ('of', 5), ('in', 5), ('movie', 4)]\n"
     ]
    },
    {
     "data": {
      "text/plain": [
       "FreqDist({'the': 13, 'you': 5, 'of': 5, 'in': 5, 'movie': 4, 'to': 4, 'are': 4, 'bad': 3, 'this': 3, 'is': 3, ...})"
      ]
     },
     "execution_count": 65,
     "metadata": {},
     "output_type": "execute_result"
    }
   ],
   "source": [
    "fd = nltk.FreqDist(words)\n",
    "d = fd.most_common(5)\n",
    "print(d)\n",
    "fd"
   ]
  },
  {
   "cell_type": "code",
   "execution_count": null,
   "metadata": {},
   "outputs": [],
   "source": [
    "word2count = {}\n",
    "for data in corpus:\n",
    "    words = nltk.word_tokenize(data)\n",
    "    for word in words:\n",
    "        if word not in word2count.keys():\n",
    "            word2count[word] = 1\n",
    "        else:\n",
    "            word2count[word] += 1\n",
    "            \n",
    "# Selecting best 100 features\n",
    "freq_words = heapq.nlargest(100,word2count,key=word2count.get)\n",
    "\n",
    "# IDF Dictionary\n",
    "word_idfs = {}\n",
    "for word in freq_words:\n",
    "    doc_count = 0\n",
    "    for data in dataset:\n",
    "        if word in nltk.word_tokenize(data):\n",
    "            doc_count += 1\n",
    "    word_idfs[word] = np.log(len(dataset)/(1+doc_count))\n",
    "    \n",
    "# TF Matrix\n",
    "tf_matrix = {}\n",
    "for word in freq_words:\n",
    "    doc_tf = []\n",
    "    for data in dataset:\n",
    "        frequency = 0\n",
    "        for w in nltk.word_tokenize(data):\n",
    "            if word == w:\n",
    "                frequency += 1\n",
    "        tf_word = frequency/len(nltk.word_tokenize(data))\n",
    "        doc_tf.append(tf_word)\n",
    "    tf_matrix[word] = doc_tf\n",
    "    \n",
    "# Creating the Tf-Idf Model\n",
    "tfidf_matrix = []\n",
    "for word in tf_matrix.keys():\n",
    "    tfidf = []\n",
    "    for value in tf_matrix[word]:\n",
    "        score = value * word_idfs[word]\n",
    "        tfidf.append(score)\n",
    "    tfidf_matrix.append(tfidf)   \n",
    "    \n",
    "# Finishing the Tf-Tdf model\n",
    "X = np.asarray(tfidf_matrix)\n",
    "\n",
    "X = np.transpose(X)"
   ]
  },
  {
   "cell_type": "code",
   "execution_count": null,
   "metadata": {},
   "outputs": [],
   "source": []
  }
 ],
 "metadata": {
  "kernelspec": {
   "display_name": "Python 3",
   "language": "python",
   "name": "python3"
  },
  "language_info": {
   "codemirror_mode": {
    "name": "ipython",
    "version": 3
   },
   "file_extension": ".py",
   "mimetype": "text/x-python",
   "name": "python",
   "nbconvert_exporter": "python",
   "pygments_lexer": "ipython3",
   "version": "3.6.7"
  }
 },
 "nbformat": 4,
 "nbformat_minor": 2
}
