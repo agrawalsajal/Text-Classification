{
 "cells": [
  {
   "cell_type": "code",
   "execution_count": 1,
   "metadata": {},
   "outputs": [],
   "source": [
    "import numpy as np\n",
    "import matplotlib.pyplot as plt\n",
    "import pandas as pd\n",
    "\n",
    "import re\n",
    "import pickle \n",
    "\n",
    "import nltk\n",
    "from nltk.corpus import stopwords\n",
    "from nltk.corpus import wordnet\n",
    "import heapq\n",
    "\n",
    "# nltk.download('stopwords')"
   ]
  },
  {
   "cell_type": "code",
   "execution_count": 2,
   "metadata": {},
   "outputs": [],
   "source": [
    "#### LOADING THE DATASET ####\n",
    "\n",
    "# from sklearn.datasets import load_files\n",
    "# reviews_train = load_files('data/train/')\n",
    "# reviews_test = load_files('data/test/')\n",
    "# X_train,y_train = reviews_train.data,reviews_train.target\n",
    "# X_test,y_test = reviews_test.data,reviews_test.target\n",
    "\n",
    "\n",
    "#### SAVING THE DATASET ####\n",
    "\n",
    "# with open('X_train.pickle','wb') as f:\n",
    "#     pickle.dump(X_train,f)\n",
    "\n",
    "# with open('X_test.pickle','wb') as f:\n",
    "#     pickle.dump(X_test,f)  \n",
    "    \n",
    "# with open('y_train.pickle','wb') as f:\n",
    "#     pickle.dump(y_train,f)\n",
    "\n",
    "# with open('y_test.pickle','wb') as f:\n",
    "#     pickle.dump(y_test,f)\n",
    "\n",
    "\n",
    "#### LOADING THE DATASET ####\n",
    "\n",
    "with open('X_train.pickle','rb') as f:\n",
    "    X_train = pickle.load(f)\n",
    "    \n",
    "with open('X_test.pickle','rb') as f:\n",
    "    X_test = pickle.load(f)\n",
    "    \n",
    "with open('y_train.pickle','rb') as f:\n",
    "    y_train = pickle.load(f)\n",
    "    \n",
    "with open('y_test.pickle','rb') as f:\n",
    "    y_test = pickle.load(f)\n",
    "    \n",
    "\n",
    "X = X_train + X_test\n",
    "\n",
    "y = np.concatenate([y_train,y_test])\n",
    "X = X[:50000]\n",
    "y = y[:50000]"
   ]
  },
  {
   "cell_type": "code",
   "execution_count": 3,
   "metadata": {},
   "outputs": [],
   "source": [
    "def remove_special_symbols(sample):\n",
    "    review = re.sub(r'\\W', ' ', sample)\n",
    "    review = re.sub(r'\\d', ' ', review)\n",
    "    review = review.lower()\n",
    "    review = re.sub(r'br[\\s$]', ' ', review)\n",
    "    review = re.sub(r'\\s+[a-z][\\s$]', ' ',review)\n",
    "    review = re.sub(r'b\\s+', '', review)\n",
    "    review = re.sub(r'\\s+', ' ', review)\n",
    "    return review\n",
    "    \n",
    "\n",
    "def process_words(words, corpus):\n",
    "    new_words = []\n",
    "    temp_word = ''\n",
    "    \n",
    "    for word in words:\n",
    "        antonyms = []\n",
    "        if temp_word in uncheck_words:\n",
    "            if word not in stop_words:\n",
    "                word = 'not_' + word\n",
    "                temp_word = ''\n",
    "        elif temp_word == 'not_':\n",
    "            for syn in wordnet.synsets(word):\n",
    "                for s in syn.lemmas():\n",
    "                    for a in s.antonyms():\n",
    "                        antonyms.append(a.name())\n",
    "            if len(antonyms) >= 1:\n",
    "                word = antonyms[0]\n",
    "            else:\n",
    "                word = temp_word + word\n",
    "            temp_word = ''\n",
    "                \n",
    "        if word in uncheck_words:\n",
    "            temp_word = word  \n",
    "        elif word == 'not':\n",
    "            temp_word = 'not_'\n",
    "        \n",
    "        if word != 'not' and word not in uncheck_words:\n",
    "            new_words.append(word)\n",
    "            \n",
    "    review = ' '.join(new_words)\n",
    "    corpus.append(review)\n",
    "    return corpus\n",
    "\n",
    "\n",
    "def process_data(sample, uncheck_words, stop_words):\n",
    "    corpus = []\n",
    "    for i in range(0, len(sample)):\n",
    "        review = remove_special_symbols(str(sample[i]))\n",
    "        words = review.split(' ')\n",
    "        corpus = process_words(words, corpus)\n",
    "    return corpus"
   ]
  },
  {
   "cell_type": "code",
   "execution_count": 4,
   "metadata": {},
   "outputs": [],
   "source": [
    "stop_words = stopwords.words('english')\n",
    "uncheck_words = ['don','won','doesn','couldn','isn','wasn','wouldn','can','ain','shouldn','not','havn','hadn','hasn','aren']\n",
    "\n",
    "corpus = []\n",
    "corpus = process_data(X, uncheck_words, stop_words)"
   ]
  },
  {
   "cell_type": "code",
   "execution_count": 5,
   "metadata": {},
   "outputs": [],
   "source": [
    "# len(corpus)"
   ]
  },
  {
   "cell_type": "code",
   "execution_count": 6,
   "metadata": {},
   "outputs": [],
   "source": [
    "def count_words(corpus, stop_words):\n",
    "    word2count = {}\n",
    "    for data in corpus:\n",
    "        words = nltk.word_tokenize(data)\n",
    "        for word in words:\n",
    "            if word not in stop_words:\n",
    "                if word not in word2count.keys():\n",
    "                    word2count[word] = 1\n",
    "                else:\n",
    "                    word2count[word] += 1\n",
    "    return word2count\n",
    "     \n",
    "\n",
    "\n",
    "\n",
    "def find_idf(corpus, word2count, freq_words):\n",
    "    word_idfs = {}\n",
    "    for word in freq_words:\n",
    "        doc_count = 0\n",
    "        for data in corpus:\n",
    "            if word in nltk.word_tokenize(data):\n",
    "                doc_count += 1\n",
    "        word_idfs[word] = np.log(len(corpus)/(1+doc_count))\n",
    "    return word_idfs\n",
    "\n",
    "def find_tf(corpus, freq_words):\n",
    "    tf_matrix = {}\n",
    "    for word in freq_words:\n",
    "        doc_tf = []\n",
    "        for data in corpus:\n",
    "            frequency = 0\n",
    "            for w in nltk.word_tokenize(data):\n",
    "                if word == w:\n",
    "                    frequency += 1\n",
    "            tf_word = frequency/len(nltk.word_tokenize(data))\n",
    "            doc_tf.append(tf_word)\n",
    "        tf_matrix[word] = doc_tf\n",
    "    return tf_matrix\n",
    "\n",
    "\n",
    "    \n",
    "\n",
    "def find_tfidf(corpus, num, stop_words):\n",
    "    tfidf_matrix = []\n",
    "    word2count = count_words(corpus, stop_words)\n",
    "    freq_words = heapq.nlargest(num,word2count,key=word2count.get)\n",
    "    print(freq_words)\n",
    "    tf_matrix = find_tf(corpus, freq_words)\n",
    "    word_idfs = find_idf(corpus, word2count, freq_words)\n",
    "    for word in tf_matrix.keys():\n",
    "        tfidf = []\n",
    "        for value in tf_matrix[word]:\n",
    "            score = value * word_idfs[word]\n",
    "            tfidf.append(score)\n",
    "        tfidf_matrix.append(tfidf)   \n",
    "    X = np.asarray(tfidf_matrix)\n",
    "    X = np.transpose(X)\n",
    "    return X"
   ]
  },
  {
   "cell_type": "code",
   "execution_count": null,
   "metadata": {},
   "outputs": [],
   "source": []
  },
  {
   "cell_type": "code",
   "execution_count": 57,
   "metadata": {},
   "outputs": [
    {
     "name": "stdout",
     "output_type": "stream",
     "text": [
      "['movie', 'film', 'one', 'like', 'good', 'time', 'would', 'story', 'really', 'even', 'see', 'well', 'also', 'first', 'great', 'much', 'made', 'people', 'way', 'bad', 'could', 'movies', 'make', 'characters', 'love', 'get', 'two', 'life', 'many', 'show', 'character', 'films', 'plot', 'seen', 'never', 'watch', 'acting', 'ever', 'man', 'little', 'best', 'think', 'better', 'still', 'work', 'end', 'back', 'scene', 'watching', 'director', 'though', 'something', 'xc', 'scenes', 'old', 'go', 'makes', 'know', 'another', 'actually', 'thing', 'actors', 'real', 'young', 'world', 'cast', 'say', 'lot', 'years', 'got', 'new', 'may', 'every', 'seems', 'us', 'things', 'around', 'find', 'part', 'fact', 'nothing', 'original', 'however', 'times', 'look', 'must', 'funny', 'music', 'give', 'pretty', 'going', 'take', 'quite', 'whole', 'family', 'almost', 'action', 'long', 'script', 'girl', 'far', 'interesting', 'gets', 'always', 'without', 'comedy', 'want', 'enough', 'away', 'right', 'least', 'woman', 'come', 'since', 'day', 'thought', 'big', 'role', 'bit', 'feel', 'goes', 'minutes', 'series', 'especially', 'horror', 'done', 'kind', 'making', 'dvd', 'saw', 'trying', 'might', 'found', 'star', 'anything', 'house', 'point', 'guy', 'rather', 'performance', 'year', 'looks', 'money', 'screen', 'worst', 'yet', 'shows', 'effects', 'although', 'john', 'played', 'comes', 'different', 'hard', 'last', 'probably', 'said', 'course', 'main', 'true', 'instead', 'special', 'watched', 'xa', 'set', 'takes', 'night', 'short', 'together', 'book', 'actor', 'audience', 'three', 'beautiful', 'put', 'place', 'ending', 'tv', 'fun', 'looking', 'black', 'sense', 'episode', 'reason', 'everyone', 'maybe', 'high', 'full', 'seem', 'believe', 'either', 'war', 'production', 'given', 'video', 'school', 'sure', 'game', 'used', 'stupid']\n"
     ]
    }
   ],
   "source": [
    "X = find_tfidf(corpus[:1000], 200, stop_words)\n",
    "\n",
    "with open('TFIDF_scratch.pickle','wb') as f:\n",
    "    pickle.dump(X,f) "
   ]
  },
  {
   "cell_type": "code",
   "execution_count": 66,
   "metadata": {},
   "outputs": [],
   "source": [
    "from sklearn.feature_extraction.text import TfidfVectorizer\n",
    "tiv = TfidfVectorizer(max_features = 2000, min_df = 2, norm=\"l2\", use_idf=True, sublinear_tf = True, max_df = 0.6, stop_words = stop_words)\n",
    "X = tiv.fit_transform(corpus).toarray()\n",
    "\n",
    "with open('TFIDF.pickle','wb') as f:\n",
    "    pickle.dump(X,f) "
   ]
  },
  {
   "cell_type": "code",
   "execution_count": 8,
   "metadata": {},
   "outputs": [],
   "source": [
    "with open('TFIDF.pickle','rb') as f:\n",
    "    X = pickle.load(f)"
   ]
  },
  {
   "cell_type": "code",
   "execution_count": 9,
   "metadata": {},
   "outputs": [],
   "source": [
    "# with open('TFIDF_scratch.pickle','rb') as f:\n",
    "#     X = pickle.load(f)"
   ]
  },
  {
   "cell_type": "code",
   "execution_count": 10,
   "metadata": {},
   "outputs": [],
   "source": [
    "from sklearn.model_selection import train_test_split\n",
    "text_train, text_test, sent_train, sent_test = train_test_split(X, y[:1000], test_size = 0.2, random_state = 0)"
   ]
  },
  {
   "cell_type": "code",
   "execution_count": 11,
   "metadata": {},
   "outputs": [
    {
     "data": {
      "text/plain": [
       "LinearSVC(C=0.1, class_weight=None, dual=True, fit_intercept=True,\n",
       "     intercept_scaling=1, loss='squared_hinge', max_iter=1000,\n",
       "     multi_class='ovr', penalty='l2', random_state=None, tol=0.0001,\n",
       "     verbose=0)"
      ]
     },
     "execution_count": 11,
     "metadata": {},
     "output_type": "execute_result"
    }
   ],
   "source": [
    "from sklearn.svm import LinearSVC\n",
    "classifier = LinearSVC(C = 0.1)\n",
    "classifier.fit(text_train,sent_train)"
   ]
  },
  {
   "cell_type": "code",
   "execution_count": null,
   "metadata": {},
   "outputs": [],
   "source": []
  },
  {
   "cell_type": "code",
   "execution_count": 12,
   "metadata": {},
   "outputs": [],
   "source": [
    "with open('svcclassifier.pickle','wb') as f:\n",
    "    pickle.dump(classifier,f)\n",
    "    \n",
    "with open('svcclassifier.pickle','rb') as f:\n",
    "    classifier = pickle.load(f)"
   ]
  },
  {
   "cell_type": "code",
   "execution_count": null,
   "metadata": {},
   "outputs": [],
   "source": []
  },
  {
   "cell_type": "code",
   "execution_count": null,
   "metadata": {},
   "outputs": [],
   "source": []
  },
  {
   "cell_type": "code",
   "execution_count": null,
   "metadata": {},
   "outputs": [],
   "source": []
  },
  {
   "cell_type": "code",
   "execution_count": 13,
   "metadata": {},
   "outputs": [],
   "source": [
    "sent_pred = classifier.predict(text_test)"
   ]
  },
  {
   "cell_type": "code",
   "execution_count": 14,
   "metadata": {},
   "outputs": [
    {
     "data": {
      "text/plain": [
       "array([[70, 36],\n",
       "       [29, 65]])"
      ]
     },
     "execution_count": 14,
     "metadata": {},
     "output_type": "execute_result"
    }
   ],
   "source": [
    "from sklearn.metrics import confusion_matrix\n",
    "cm = confusion_matrix(sent_test, sent_pred)\n",
    "cm"
   ]
  },
  {
   "cell_type": "code",
   "execution_count": 15,
   "metadata": {},
   "outputs": [
    {
     "name": "stdout",
     "output_type": "stream",
     "text": [
      "[0.72839506 0.72839506 0.7125     0.7875     0.7        0.7625\n",
      " 0.775      0.7625     0.74683544 0.79746835]\n",
      "0.7501093920925144\n",
      "0.030735461835207114\n"
     ]
    }
   ],
   "source": [
    "from sklearn.model_selection import cross_val_score\n",
    "accuracies = cross_val_score(estimator = classifier, X = text_train, y = sent_train, cv = 10)\n",
    "print(accuracies)\n",
    "print(accuracies.mean())\n",
    "print(accuracies.std())"
   ]
  },
  {
   "cell_type": "code",
   "execution_count": null,
   "metadata": {},
   "outputs": [],
   "source": [
    "with open('TFIDF.pickle','rb') as f:\n",
    "    tfidf = pickle.load(f)\n",
    "    \n"
   ]
  },
  {
   "cell_type": "code",
   "execution_count": 20,
   "metadata": {},
   "outputs": [
    {
     "data": {
      "text/plain": [
       "(1000, 200)"
      ]
     },
     "execution_count": 20,
     "metadata": {},
     "output_type": "execute_result"
    }
   ],
   "source": [
    "X.shape"
   ]
  },
  {
   "cell_type": "code",
   "execution_count": null,
   "metadata": {},
   "outputs": [],
   "source": []
  }
 ],
 "metadata": {
  "kernelspec": {
   "display_name": "Python 3",
   "language": "python",
   "name": "python3"
  },
  "language_info": {
   "codemirror_mode": {
    "name": "ipython",
    "version": 3
   },
   "file_extension": ".py",
   "mimetype": "text/x-python",
   "name": "python",
   "nbconvert_exporter": "python",
   "pygments_lexer": "ipython3",
   "version": "3.6.7"
  }
 },
 "nbformat": 4,
 "nbformat_minor": 2
}
